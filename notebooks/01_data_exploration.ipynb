{
 "cells": [
  {
   "cell_type": "code",
   "execution_count": 3,
   "id": "163be62f",
   "metadata": {},
   "outputs": [
    {
     "name": "stdout",
     "output_type": "stream",
     "text": [
      "  Status_Checking_Account  Duration Credit_History Purpose  Credit_Amount  \\\n",
      "0                     A11         6            A34     A43           1169   \n",
      "1                     A12        48            A32     A43           5951   \n",
      "2                     A14        12            A34     A46           2096   \n",
      "3                     A11        42            A32     A42           7882   \n",
      "4                     A11        24            A33     A40           4870   \n",
      "\n",
      "  Savings_Account Employment_Since  Installment_Rate Personal_Status_Sex  \\\n",
      "0             A65              A75                 4                 A93   \n",
      "1             A61              A73                 2                 A92   \n",
      "2             A61              A74                 2                 A93   \n",
      "3             A61              A74                 2                 A93   \n",
      "4             A61              A73                 3                 A93   \n",
      "\n",
      "  Other_Debtors  ...  Property Age  Other_Installment_Plans Housing  \\\n",
      "0          A101  ...      A121  67                     A143    A152   \n",
      "1          A101  ...      A121  22                     A143    A152   \n",
      "2          A101  ...      A121  49                     A143    A152   \n",
      "3          A103  ...      A122  45                     A143    A153   \n",
      "4          A101  ...      A124  53                     A143    A153   \n",
      "\n",
      "  Number_Credits   Job Number_People_Maintained  Telephone Foreign_Worker  \\\n",
      "0              2  A173                        1       A192           A201   \n",
      "1              1  A173                        1       A191           A201   \n",
      "2              1  A172                        2       A191           A201   \n",
      "3              1  A173                        2       A191           A201   \n",
      "4              2  A173                        2       A191           A201   \n",
      "\n",
      "  Credit_Risk  \n",
      "0           1  \n",
      "1           2  \n",
      "2           1  \n",
      "3           1  \n",
      "4           2  \n",
      "\n",
      "[5 rows x 21 columns]\n",
      "          Duration  Credit_Amount  Installment_Rate  Present_Residence  \\\n",
      "count  1000.000000    1000.000000       1000.000000        1000.000000   \n",
      "mean     20.903000    3271.258000          2.973000           2.845000   \n",
      "std      12.058814    2822.736876          1.118715           1.103718   \n",
      "min       4.000000     250.000000          1.000000           1.000000   \n",
      "25%      12.000000    1365.500000          2.000000           2.000000   \n",
      "50%      18.000000    2319.500000          3.000000           3.000000   \n",
      "75%      24.000000    3972.250000          4.000000           4.000000   \n",
      "max      72.000000   18424.000000          4.000000           4.000000   \n",
      "\n",
      "               Age  Number_Credits  Number_People_Maintained  Credit_Risk  \n",
      "count  1000.000000     1000.000000               1000.000000  1000.000000  \n",
      "mean     35.546000        1.407000                  1.155000     1.300000  \n",
      "std      11.375469        0.577654                  0.362086     0.458487  \n",
      "min      19.000000        1.000000                  1.000000     1.000000  \n",
      "25%      27.000000        1.000000                  1.000000     1.000000  \n",
      "50%      33.000000        1.000000                  1.000000     1.000000  \n",
      "75%      42.000000        2.000000                  1.000000     2.000000  \n",
      "max      75.000000        4.000000                  2.000000     2.000000  \n",
      "Credit_Risk\n",
      "1    700\n",
      "2    300\n",
      "Name: count, dtype: int64\n"
     ]
    },
    {
     "data": {
      "image/png": "[encoded data removed]",
      "text/plain": [
       "<Figure size 640x480 with 1 Axes>"
      ]
     },
     "metadata": {},
     "output_type": "display_data"
    }
   ],
   "source": [
    "import pandas as pd\n",
    "import matplotlib.pyplot as plt\n",
    "\n",
    "# Load German dataset\n",
    "df = pd.read_csv(\"../data/south_german_credit.csv\")\n",
    "\n",
    "print(df.head())\n",
    "print(df.describe())\n",
    "print(df[\"Credit_Risk\"].value_counts())\n",
    "\n",
    "# Plot target class balance\n",
    "df[\"Credit_Risk\"].value_counts().plot(kind='bar')\n",
    "plt.title(\"Credit Risk Distribution (German Dataset)\")\n",
    "plt.show()\n"
   ]
  }
 ],
 "metadata": {
  "kernelspec": {
   "display_name": "venv",
   "language": "python",
   "name": "python3"
  },
  "language_info": {
   "codemirror_mode": {
    "name": "ipython",
    "version": 3
   },
   "file_extension": ".py",
   "mimetype": "text/x-python",
   "name": "python",
   "nbconvert_exporter": "python",
   "pygments_lexer": "ipython3",
   "version": "3.13.5"
  }
 },
 "nbformat": 4,
 "nbformat_minor": 5
}
