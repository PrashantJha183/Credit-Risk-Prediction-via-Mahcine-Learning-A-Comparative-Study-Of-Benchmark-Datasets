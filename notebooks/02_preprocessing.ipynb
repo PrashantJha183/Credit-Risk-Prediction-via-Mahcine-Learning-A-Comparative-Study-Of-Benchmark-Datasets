{
 "cells": [
  {
   "cell_type": "code",
   "execution_count": 1,
   "id": "a3207f0b",
   "metadata": {},
   "outputs": [
    {
     "name": "stdout",
     "output_type": "stream",
     "text": [
      "✅ Data loaded. Shape: (1000, 21)\n",
      "✅ One-hot encoding complete. Shape: (1000, 61)\n",
      "✅ Scaling complete. Shape: (1000, 61)\n",
      "✅ SMOTE complete. Resampled shape: (1400, 61)\n",
      "Class distribution after SMOTE:\n",
      " Credit_Risk\n",
      "1    700\n",
      "2    700\n",
      "Name: count, dtype: int64\n",
      "✅ Saved resampled arrays.\n"
     ]
    }
   ],
   "source": [
    "from sklearn.preprocessing import StandardScaler\n",
    "from imblearn.over_sampling import SMOTE\n",
    "import pandas as pd\n",
    "import numpy as np\n",
    "import os\n",
    "\n",
    "# Load German dataset\n",
    "data_path = os.path.join(\"..\", \"data\", \"south_german_credit.csv\")\n",
    "df = pd.read_csv(data_path)\n",
    "\n",
    "print(\"✅ Data loaded. Shape:\", df.shape)\n",
    "\n",
    "# Separate features & target\n",
    "X = df.drop(\"Credit_Risk\", axis=1)\n",
    "y = df[\"Credit_Risk\"]\n",
    "\n",
    "# One-hot encode categoricals\n",
    "X_encoded = pd.get_dummies(X)\n",
    "print(\"✅ One-hot encoding complete. Shape:\", X_encoded.shape)\n",
    "\n",
    "# Standard scaling\n",
    "scaler = StandardScaler()\n",
    "X_scaled = scaler.fit_transform(X_encoded)\n",
    "\n",
    "print(\"✅ Scaling complete. Shape:\", X_scaled.shape)\n",
    "\n",
    "# Handle imbalance\n",
    "smote = SMOTE(random_state=42)\n",
    "X_resampled, y_resampled = smote.fit_resample(X_scaled, y)\n",
    "\n",
    "print(\"✅ SMOTE complete. Resampled shape:\", X_resampled.shape)\n",
    "\n",
    "# Check class distribution after SMOTE\n",
    "print(\"Class distribution after SMOTE:\\n\", pd.Series(y_resampled).value_counts())\n",
    "\n",
    "# Save the arrays\n",
    "output_dir = os.path.join(\"..\", \"data\")\n",
    "os.makedirs(output_dir, exist_ok=True)\n",
    "\n",
    "np.save(os.path.join(output_dir, \"X_resampled_german.npy\"), X_resampled)\n",
    "np.save(os.path.join(output_dir, \"y_resampled_german.npy\"), y_resampled)\n",
    "\n",
    "print(\"✅ Saved resampled arrays.\")\n"
   ]
  }
 ],
 "metadata": {
  "kernelspec": {
   "display_name": "venv",
   "language": "python",
   "name": "python3"
  },
  "language_info": {
   "codemirror_mode": {
    "name": "ipython",
    "version": 3
   },
   "file_extension": ".py",
   "mimetype": "text/x-python",
   "name": "python",
   "nbconvert_exporter": "python",
   "pygments_lexer": "ipython3",
   "version": "3.13.5"
  }
 },
 "nbformat": 4,
 "nbformat_minor": 5
}
